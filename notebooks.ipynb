{
 "cells": [
  {
   "cell_type": "markdown",
   "metadata": {},
   "source": [
    "\n",
    "# Python Tutorials\n",
    "\n",
    "Trong phần này mình sẽ thường xuyên đăng ngẫu nhiên các kỹ thuật thực tiễn sử dụng trong phân \n",
    "tích dữ liệu sử dụng Jupyter Notebook.\n",
    "\n",
    "Các chủ đề chính sẽ bao gồm:\n",
    "- Data In/Out\n",
    "- Data Processing\n",
    "- Data Aggregation\n",
    "- Data Visualization\n",
    "- Machine Learning\n",
    "\n",
    "\n",
    "Hãy follow mình tại: [Hands on Data Analysis](https://www.facebook.com/profile.php?id=61556599619491)"
   ]
  }
 ],
 "metadata": {
  "kernelspec": {
   "display_name": "Python 3",
   "language": "python",
   "name": "python3"
  },
  "language_info": {
   "codemirror_mode": {
    "name": "ipython",
    "version": 3
   },
   "file_extension": ".py",
   "mimetype": "text/x-python",
   "name": "python",
   "nbconvert_exporter": "python",
   "pygments_lexer": "ipython3",
   "version": "3.8.0"
  },
  "widgets": {
   "application/vnd.jupyter.widget-state+json": {
    "state": {},
    "version_major": 2,
    "version_minor": 0
   }
  }
 },
 "nbformat": 4,
 "nbformat_minor": 4
}
