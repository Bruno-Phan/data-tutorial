{
 "cells": [
  {
   "cell_type": "markdown",
   "id": "c15fb143-280e-4349-ab4e-482c9f14ab36",
   "metadata": {},
   "source": [
    "# Python Pandas: đừng dùng IF, hãy dùng where!"
   ]
  },
  {
   "cell_type": "markdown",
   "id": "c32dff19-c338-4a18-a3e9-7c356c8634a2",
   "metadata": {},
   "source": [
    "## Giới thiệu:\n",
    "Đôi khi trong phân tích, ta cần tạo ra các field thứ cấp từ các field ban đầu, trong đó có sử dụng điều kiện.  \n",
    "- Thông thường để thực hiện điều này, theo bản năng ta dùng IF/ELIF để tạo function và loop qua từng giá trị trong field.\n",
    "- Cách làm trên tuy vẫn hoạt động và concept quen thuộc, dễ hiểu tuy nhiên không mang lại hiệu suất tính toán tốt, do đó trong trường hợp dữ liệu lớn sẽ làm kéo dài thời gian tính toán.\n",
    "- Để tối ưu tính toán, ta cần nắm rõ và vận dụng tốt các build-in function trong numpy/pandas, những hàm này đã được tối ưu cho các phép toán vectorized operation.\n",
    "- Cụ thể đối với trường hợp này, ta sẽ sử dụng where thay vì IF."
   ]
  },
  {
   "cell_type": "markdown",
   "id": "2e13eb99-2713-44ff-b452-e47b1df74f92",
   "metadata": {},
   "source": [
    "## Cú pháp:\n",
    "Syntax :numpy.where(condition[, x, y])  \n",
    "\n",
    "Hàm này tương tự như hàm if trong Excel: Nếu + điều kiện , giá trị trả về nếu True , giá trị trả về nếu False"
   ]
  },
  {
   "cell_type": "markdown",
   "id": "c1e75298-aba0-45fa-8750-62cb0966f12d",
   "metadata": {},
   "source": [
    "## Bài toán:\n",
    "Giả sử ta có dữ liệu nhịp tim như bên dưới, biết rằng nhịp tim của người bình thường sẽ rơi vào khoảng 60-100 nhịp/phút. Ta cần phân loại nhịp tim thành 3 nhóm:  \n",
    "- normal: [60-100]\n",
    "- unnormal: other case"
   ]
  },
  {
   "cell_type": "code",
   "execution_count": 12,
   "id": "4ec483bb-cafc-4121-a0b9-7f2b648b69fe",
   "metadata": {},
   "outputs": [],
   "source": [
    "import pandas as pd \n",
    "import numpy as np"
   ]
  },
  {
   "cell_type": "code",
   "execution_count": 13,
   "id": "af9b1c4e-19df-42b0-9b9e-ef915ab89bf5",
   "metadata": {},
   "outputs": [],
   "source": [
    "sample = pd.read_csv('https://raw.githubusercontent.com/mwaskom/seaborn-data/refs/heads/master/exercise.csv',index_col=0)[['pulse']]"
   ]
  },
  {
   "cell_type": "code",
   "execution_count": 14,
   "id": "2a342ef8-f6a2-452b-bcf0-295f2327294c",
   "metadata": {},
   "outputs": [
    {
     "data": {
      "text/html": [
       "<div>\n",
       "<style scoped>\n",
       "    .dataframe tbody tr th:only-of-type {\n",
       "        vertical-align: middle;\n",
       "    }\n",
       "\n",
       "    .dataframe tbody tr th {\n",
       "        vertical-align: top;\n",
       "    }\n",
       "\n",
       "    .dataframe thead th {\n",
       "        text-align: right;\n",
       "    }\n",
       "</style>\n",
       "<table border=\"1\" class=\"dataframe\">\n",
       "  <thead>\n",
       "    <tr style=\"text-align: right;\">\n",
       "      <th></th>\n",
       "      <th>pulse</th>\n",
       "    </tr>\n",
       "  </thead>\n",
       "  <tbody>\n",
       "    <tr>\n",
       "      <th>0</th>\n",
       "      <td>85</td>\n",
       "    </tr>\n",
       "    <tr>\n",
       "      <th>1</th>\n",
       "      <td>85</td>\n",
       "    </tr>\n",
       "    <tr>\n",
       "      <th>2</th>\n",
       "      <td>88</td>\n",
       "    </tr>\n",
       "    <tr>\n",
       "      <th>3</th>\n",
       "      <td>90</td>\n",
       "    </tr>\n",
       "    <tr>\n",
       "      <th>4</th>\n",
       "      <td>92</td>\n",
       "    </tr>\n",
       "  </tbody>\n",
       "</table>\n",
       "</div>"
      ],
      "text/plain": [
       "   pulse\n",
       "0     85\n",
       "1     85\n",
       "2     88\n",
       "3     90\n",
       "4     92"
      ]
     },
     "execution_count": 14,
     "metadata": {},
     "output_type": "execute_result"
    }
   ],
   "source": [
    "sample.head()"
   ]
  },
  {
   "cell_type": "markdown",
   "id": "638b87ed-0d27-455a-a889-403b110ad258",
   "metadata": {},
   "source": [
    "### Cách 1: sử dụng IF "
   ]
  },
  {
   "cell_type": "code",
   "execution_count": 15,
   "id": "65d28b12-47fd-486c-8c4b-47e58b6eef23",
   "metadata": {},
   "outputs": [
    {
     "name": "stdout",
     "output_type": "stream",
     "text": [
      "CPU times: total: 0 ns\n",
      "Wall time: 3 ms\n"
     ]
    }
   ],
   "source": [
    "%%time\n",
    "sample['type'] = ['normal' if  ((row['pulse'] >=60) & ( row['pulse'] <=100 )) else  'unnormal' for _, row in sample.iterrows()  ]"
   ]
  },
  {
   "cell_type": "code",
   "execution_count": 16,
   "id": "97e1fd1c-beba-47ef-8d5f-9db3d0d13172",
   "metadata": {},
   "outputs": [
    {
     "data": {
      "text/html": [
       "<div>\n",
       "<style scoped>\n",
       "    .dataframe tbody tr th:only-of-type {\n",
       "        vertical-align: middle;\n",
       "    }\n",
       "\n",
       "    .dataframe tbody tr th {\n",
       "        vertical-align: top;\n",
       "    }\n",
       "\n",
       "    .dataframe thead th {\n",
       "        text-align: right;\n",
       "    }\n",
       "</style>\n",
       "<table border=\"1\" class=\"dataframe\">\n",
       "  <thead>\n",
       "    <tr style=\"text-align: right;\">\n",
       "      <th></th>\n",
       "      <th>pulse</th>\n",
       "      <th>type</th>\n",
       "    </tr>\n",
       "  </thead>\n",
       "  <tbody>\n",
       "    <tr>\n",
       "      <th>0</th>\n",
       "      <td>85</td>\n",
       "      <td>normal</td>\n",
       "    </tr>\n",
       "    <tr>\n",
       "      <th>1</th>\n",
       "      <td>85</td>\n",
       "      <td>normal</td>\n",
       "    </tr>\n",
       "    <tr>\n",
       "      <th>2</th>\n",
       "      <td>88</td>\n",
       "      <td>normal</td>\n",
       "    </tr>\n",
       "    <tr>\n",
       "      <th>3</th>\n",
       "      <td>90</td>\n",
       "      <td>normal</td>\n",
       "    </tr>\n",
       "    <tr>\n",
       "      <th>4</th>\n",
       "      <td>92</td>\n",
       "      <td>normal</td>\n",
       "    </tr>\n",
       "    <tr>\n",
       "      <th>...</th>\n",
       "      <td>...</td>\n",
       "      <td>...</td>\n",
       "    </tr>\n",
       "    <tr>\n",
       "      <th>85</th>\n",
       "      <td>135</td>\n",
       "      <td>unnormal</td>\n",
       "    </tr>\n",
       "    <tr>\n",
       "      <th>86</th>\n",
       "      <td>130</td>\n",
       "      <td>unnormal</td>\n",
       "    </tr>\n",
       "    <tr>\n",
       "      <th>87</th>\n",
       "      <td>99</td>\n",
       "      <td>normal</td>\n",
       "    </tr>\n",
       "    <tr>\n",
       "      <th>88</th>\n",
       "      <td>111</td>\n",
       "      <td>unnormal</td>\n",
       "    </tr>\n",
       "    <tr>\n",
       "      <th>89</th>\n",
       "      <td>150</td>\n",
       "      <td>unnormal</td>\n",
       "    </tr>\n",
       "  </tbody>\n",
       "</table>\n",
       "<p>90 rows × 2 columns</p>\n",
       "</div>"
      ],
      "text/plain": [
       "    pulse      type\n",
       "0      85    normal\n",
       "1      85    normal\n",
       "2      88    normal\n",
       "3      90    normal\n",
       "4      92    normal\n",
       "..    ...       ...\n",
       "85    135  unnormal\n",
       "86    130  unnormal\n",
       "87     99    normal\n",
       "88    111  unnormal\n",
       "89    150  unnormal\n",
       "\n",
       "[90 rows x 2 columns]"
      ]
     },
     "execution_count": 16,
     "metadata": {},
     "output_type": "execute_result"
    }
   ],
   "source": [
    "sample"
   ]
  },
  {
   "cell_type": "markdown",
   "id": "bcbbbd24-d584-4ff2-945b-5e86064dc2ed",
   "metadata": {},
   "source": [
    "## Cách 2: Sử dụng pd.where "
   ]
  },
  {
   "cell_type": "code",
   "execution_count": 17,
   "id": "d49c4b12-61e0-4faa-8d27-c31cc22e320c",
   "metadata": {},
   "outputs": [
    {
     "name": "stdout",
     "output_type": "stream",
     "text": [
      "CPU times: total: 0 ns\n",
      "Wall time: 0 ns\n"
     ]
    }
   ],
   "source": [
    "%%time\n",
    "sample['type2'] =  np.where((sample.pulse>=60)&(sample.pulse<=100),'normal','unnormal')"
   ]
  },
  {
   "cell_type": "code",
   "execution_count": 18,
   "id": "012a2478-7952-4b99-8f3f-d309eb6251a0",
   "metadata": {},
   "outputs": [
    {
     "data": {
      "text/html": [
       "<div>\n",
       "<style scoped>\n",
       "    .dataframe tbody tr th:only-of-type {\n",
       "        vertical-align: middle;\n",
       "    }\n",
       "\n",
       "    .dataframe tbody tr th {\n",
       "        vertical-align: top;\n",
       "    }\n",
       "\n",
       "    .dataframe thead th {\n",
       "        text-align: right;\n",
       "    }\n",
       "</style>\n",
       "<table border=\"1\" class=\"dataframe\">\n",
       "  <thead>\n",
       "    <tr style=\"text-align: right;\">\n",
       "      <th></th>\n",
       "      <th>pulse</th>\n",
       "      <th>type</th>\n",
       "      <th>type2</th>\n",
       "    </tr>\n",
       "  </thead>\n",
       "  <tbody>\n",
       "    <tr>\n",
       "      <th>0</th>\n",
       "      <td>85</td>\n",
       "      <td>normal</td>\n",
       "      <td>normal</td>\n",
       "    </tr>\n",
       "    <tr>\n",
       "      <th>1</th>\n",
       "      <td>85</td>\n",
       "      <td>normal</td>\n",
       "      <td>normal</td>\n",
       "    </tr>\n",
       "    <tr>\n",
       "      <th>2</th>\n",
       "      <td>88</td>\n",
       "      <td>normal</td>\n",
       "      <td>normal</td>\n",
       "    </tr>\n",
       "    <tr>\n",
       "      <th>3</th>\n",
       "      <td>90</td>\n",
       "      <td>normal</td>\n",
       "      <td>normal</td>\n",
       "    </tr>\n",
       "    <tr>\n",
       "      <th>4</th>\n",
       "      <td>92</td>\n",
       "      <td>normal</td>\n",
       "      <td>normal</td>\n",
       "    </tr>\n",
       "    <tr>\n",
       "      <th>...</th>\n",
       "      <td>...</td>\n",
       "      <td>...</td>\n",
       "      <td>...</td>\n",
       "    </tr>\n",
       "    <tr>\n",
       "      <th>85</th>\n",
       "      <td>135</td>\n",
       "      <td>unnormal</td>\n",
       "      <td>unnormal</td>\n",
       "    </tr>\n",
       "    <tr>\n",
       "      <th>86</th>\n",
       "      <td>130</td>\n",
       "      <td>unnormal</td>\n",
       "      <td>unnormal</td>\n",
       "    </tr>\n",
       "    <tr>\n",
       "      <th>87</th>\n",
       "      <td>99</td>\n",
       "      <td>normal</td>\n",
       "      <td>normal</td>\n",
       "    </tr>\n",
       "    <tr>\n",
       "      <th>88</th>\n",
       "      <td>111</td>\n",
       "      <td>unnormal</td>\n",
       "      <td>unnormal</td>\n",
       "    </tr>\n",
       "    <tr>\n",
       "      <th>89</th>\n",
       "      <td>150</td>\n",
       "      <td>unnormal</td>\n",
       "      <td>unnormal</td>\n",
       "    </tr>\n",
       "  </tbody>\n",
       "</table>\n",
       "<p>90 rows × 3 columns</p>\n",
       "</div>"
      ],
      "text/plain": [
       "    pulse      type     type2\n",
       "0      85    normal    normal\n",
       "1      85    normal    normal\n",
       "2      88    normal    normal\n",
       "3      90    normal    normal\n",
       "4      92    normal    normal\n",
       "..    ...       ...       ...\n",
       "85    135  unnormal  unnormal\n",
       "86    130  unnormal  unnormal\n",
       "87     99    normal    normal\n",
       "88    111  unnormal  unnormal\n",
       "89    150  unnormal  unnormal\n",
       "\n",
       "[90 rows x 3 columns]"
      ]
     },
     "execution_count": 18,
     "metadata": {},
     "output_type": "execute_result"
    }
   ],
   "source": [
    "sample"
   ]
  },
  {
   "cell_type": "markdown",
   "id": "432ccd87-b808-4995-8b1e-be521b48f131",
   "metadata": {},
   "source": [
    "## Kết luận: \n",
    "- So sách thời gian thực hiện bằng 2 cách sẽ thấy rõ sự khác biệt.\n",
    "- np.where đặc biệt hiệu quả khi kết hợp với các build-in function khác có sẵn trên numpy và pandas."
   ]
  }
 ],
 "metadata": {
  "kernelspec": {
   "display_name": "Python 3 (ipykernel)",
   "language": "python",
   "name": "python3"
  },
  "language_info": {
   "codemirror_mode": {
    "name": "ipython",
    "version": 3
   },
   "file_extension": ".py",
   "mimetype": "text/x-python",
   "name": "python",
   "nbconvert_exporter": "python",
   "pygments_lexer": "ipython3",
   "version": "3.11.5"
  },
  "widgets": {
   "application/vnd.jupyter.widget-state+json": {
    "state": {},
    "version_major": 2,
    "version_minor": 0
   }
  }
 },
 "nbformat": 4,
 "nbformat_minor": 5
}
