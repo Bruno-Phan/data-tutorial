{
 "cells": [
  {
   "cell_type": "markdown",
   "metadata": {},
   "source": [
    "# Import data vào Jupyter Notebook nhanh!\n",
    "\n",
    "Trong quá trình làm việc, ngoài tiếp nhận dữ liệu từ các nguồn truyền thống như file Excel/CSV \n",
    "do các phòng ban gửi về hoặc xuất từ hệ thống cho những báo cáo đơn giản. Ở cấp độ cao hơn, sau khi \n",
    "tiếp nhận và xử lí dữ liệu, chúng ta sẽ quản lí dữ liệu trên database của riêng mình hoặc database \n",
    "của team, do đó việc kết nối Python với database là rất cần thiết để tự động hóa việc trích xuất dữ liệu\n",
    "và tiết kiệm thời gian.\n",
    "\n",
    "Trong bài viết hôm nay mình sẽ hướng dẫn các bạn kết nối với SQL Server, hệ quản trị cơ sở dữ liệu phổ biến \n",
    "được sử dụng cho các bạn tự quản lí dữ liệu ở quy mô nhỏ vì miễn phí và cài đặt đơn giản.\n",
    "\n",
    "\n",
    "Nếu thấy bài viết hữu ích, hãy follow group của mình để nhận thông tin về bài viết mới.\n",
    "\n",
    "[Hands on Data Analysis](https://www.facebook.com/profile.php?id=61556599619491) \n",
    "\n",
    "## Import thư viện\n",
    "\n",
    "Một cách mà mình thấy đơn giản để kết nối SQL Server là sử dụng thư viện pyodbc.\n",
    "\n",
    "Bạn nào chưa cài, thì có thể cài trực tiếp trên notebook bằng lệnh:\n",
    "\n",
    "!pip install pyodbc"
   ]
  },
  {
   "cell_type": "code",
   "execution_count": 1,
   "metadata": {},
   "outputs": [
    {
     "name": "stdout",
     "output_type": "stream",
     "text": [
      "Collecting pyodbc\n",
      "  Downloading pyodbc-5.1.0-cp311-cp311-win_amd64.whl.metadata (2.8 kB)\n",
      "Downloading pyodbc-5.1.0-cp311-cp311-win_amd64.whl (68 kB)\n",
      "   ---------------------------------------- 0.0/68.7 kB ? eta -:--:--\n",
      "   ----------- ---------------------------- 20.5/68.7 kB 640.0 kB/s eta 0:00:01\n",
      "   ---------------------------------------- 68.7/68.7 kB 928.6 kB/s eta 0:00:00\n",
      "Installing collected packages: pyodbc\n",
      "Successfully installed pyodbc-5.1.0\n"
     ]
    },
    {
     "name": "stderr",
     "output_type": "stream",
     "text": [
      "\n",
      "[notice] A new release of pip is available: 24.0 -> 24.2\n",
      "[notice] To update, run: python.exe -m pip install --upgrade pip\n"
     ]
    }
   ],
   "source": [
    "!pip install pyodbc"
   ]
  },
  {
   "cell_type": "code",
   "execution_count": 3,
   "metadata": {},
   "outputs": [],
   "source": [
    "import pandas as pd \n",
    "import numpy as np \n",
    "import pyodbc"
   ]
  },
  {
   "cell_type": "markdown",
   "metadata": {},
   "source": [
    "### Tạo connection:\n",
    "Đầu tiên, để lấy dữ liệu từ database, chúng ta cần tạo connection tới database:"
   ]
  },
  {
   "cell_type": "code",
   "execution_count": 5,
   "metadata": {},
   "outputs": [],
   "source": [
    "con = pyodbc.connect('driver={SQL Server};server=localhost;database=tutorial')"
   ]
  },
  {
   "cell_type": "markdown",
   "metadata": {},
   "source": [
    "### Sau khi tạo connection, chúng ta có thể thực hiện query dữ liệu vào dataframe trên pandas bằng lệnh read_sql:\n",
    "Chúng ta sẽ truyền vào hàm 2 tham số: \n",
    "    sql: câu query và \n",
    "    con: connection mà để kết nối tới database"
   ]
  },
  {
   "cell_type": "code",
   "execution_count": 10,
   "metadata": {},
   "outputs": [
    {
     "name": "stderr",
     "output_type": "stream",
     "text": [
      "C:\\Users\\admin\\AppData\\Local\\Temp\\ipykernel_10368\\3178502764.py:1: UserWarning: pandas only supports SQLAlchemy connectable (engine/connection) or database string URI or sqlite3 DBAPI2 connection. Other DBAPI2 objects are not tested. Please consider using SQLAlchemy.\n",
      "  data = pd.read_sql(sql = 'select top 10  * from customer', con=con )\n"
     ]
    }
   ],
   "source": [
    "data = pd.read_sql(sql = 'select top 10  * from customer', con=con )"
   ]
  },
  {
   "cell_type": "markdown",
   "metadata": {},
   "source": [
    "### Kiểm tra kết quả:"
   ]
  },
  {
   "cell_type": "code",
   "execution_count": 12,
   "metadata": {},
   "outputs": [
    {
     "data": {
      "text/html": [
       "<div>\n",
       "<style scoped>\n",
       "    .dataframe tbody tr th:only-of-type {\n",
       "        vertical-align: middle;\n",
       "    }\n",
       "\n",
       "    .dataframe tbody tr th {\n",
       "        vertical-align: top;\n",
       "    }\n",
       "\n",
       "    .dataframe thead th {\n",
       "        text-align: right;\n",
       "    }\n",
       "</style>\n",
       "<table border=\"1\" class=\"dataframe\">\n",
       "  <thead>\n",
       "    <tr style=\"text-align: right;\">\n",
       "      <th></th>\n",
       "      <th>Id</th>\n",
       "      <th>FirstName</th>\n",
       "      <th>LastName</th>\n",
       "      <th>City</th>\n",
       "      <th>Country</th>\n",
       "      <th>Phone</th>\n",
       "    </tr>\n",
       "  </thead>\n",
       "  <tbody>\n",
       "    <tr>\n",
       "      <th>0</th>\n",
       "      <td>1</td>\n",
       "      <td>Maria</td>\n",
       "      <td>Anders</td>\n",
       "      <td>Berlin</td>\n",
       "      <td>Germany</td>\n",
       "      <td>030-0074321</td>\n",
       "    </tr>\n",
       "    <tr>\n",
       "      <th>1</th>\n",
       "      <td>2</td>\n",
       "      <td>Ana</td>\n",
       "      <td>Trujillo</td>\n",
       "      <td>México D.F.</td>\n",
       "      <td>Mexico</td>\n",
       "      <td>(5) 555-4729</td>\n",
       "    </tr>\n",
       "    <tr>\n",
       "      <th>2</th>\n",
       "      <td>3</td>\n",
       "      <td>Antonio</td>\n",
       "      <td>Moreno</td>\n",
       "      <td>México D.F.</td>\n",
       "      <td>Mexico</td>\n",
       "      <td>(5) 555-3932</td>\n",
       "    </tr>\n",
       "    <tr>\n",
       "      <th>3</th>\n",
       "      <td>4</td>\n",
       "      <td>Thomas</td>\n",
       "      <td>Hardy</td>\n",
       "      <td>London</td>\n",
       "      <td>UK</td>\n",
       "      <td>(171) 555-7788</td>\n",
       "    </tr>\n",
       "    <tr>\n",
       "      <th>4</th>\n",
       "      <td>5</td>\n",
       "      <td>Christina</td>\n",
       "      <td>Berglund</td>\n",
       "      <td>Luleå</td>\n",
       "      <td>Sweden</td>\n",
       "      <td>0921-12 34 65</td>\n",
       "    </tr>\n",
       "  </tbody>\n",
       "</table>\n",
       "</div>"
      ],
      "text/plain": [
       "   Id  FirstName  LastName         City  Country           Phone\n",
       "0   1      Maria    Anders       Berlin  Germany     030-0074321\n",
       "1   2        Ana  Trujillo  México D.F.   Mexico    (5) 555-4729\n",
       "2   3    Antonio    Moreno  México D.F.   Mexico    (5) 555-3932\n",
       "3   4     Thomas     Hardy       London       UK  (171) 555-7788\n",
       "4   5  Christina  Berglund        Luleå   Sweden   0921-12 34 65"
      ]
     },
     "execution_count": 12,
     "metadata": {},
     "output_type": "execute_result"
    }
   ],
   "source": [
    "data.head()"
   ]
  },
  {
   "cell_type": "markdown",
   "metadata": {},
   "source": [
    "Vậy là chúng ta đã kết nối và query thành công dữ liệu từ SQL Server.\n",
    "Lưu ý: đây là hướng dẫn concept đơn giản, trên thực tế tùy vào mạng nội bộ của công ty, hoặc chính sách bảo mật, bạn có \n",
    "thể phải truyền thêm các tham số như IP, port, authentication,..."
   ]
  },
  {
   "cell_type": "code",
   "execution_count": null,
   "metadata": {},
   "outputs": [],
   "source": []
  }
 ],
 "metadata": {
  "kernelspec": {
   "display_name": "python311",
   "language": "python",
   "name": "python3"
  },
  "language_info": {
   "codemirror_mode": {
    "name": "ipython",
    "version": 3
   },
   "file_extension": ".py",
   "mimetype": "text/x-python",
   "name": "python",
   "nbconvert_exporter": "python",
   "pygments_lexer": "ipython3",
   "version": "3.11.9"
  }
 },
 "nbformat": 4,
 "nbformat_minor": 2
}
