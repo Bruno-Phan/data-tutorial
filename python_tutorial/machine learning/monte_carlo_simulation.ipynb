{
 "cells": [
  {
   "cell_type": "markdown",
   "id": "a1115aa2",
   "metadata": {
    "editable": true,
    "slideshow": {
     "slide_type": ""
    },
    "tags": []
   },
   "source": [
    "# Ước tính ngân sách hoa hồng bằng phương pháp Monte Carlo"
   ]
  },
  {
   "cell_type": "markdown",
   "id": "3b008d89",
   "metadata": {},
   "source": [
    "## Monte Carlo Simulation:\n",
    "Mô phỏng Monte Carlo là gì?\n",
    "Mô phỏng Monte Carlo là một kỹ thuật toán học dự đoán kết quả có thể xảy ra của một sự kiện không chắc chắn. Các chương trình máy tính sử dụng phương pháp này để phân tích dữ liệu trong quá khứ và dự đoán một loạt các kết quả trong tương lai dựa trên một lựa chọn hành động. Ví dụ: nếu bạn muốn ước tính doanh số bán hàng trong tháng đầu tiên của một sản phẩm mới, bạn có thể cung cấp cho chương trình mô phỏng Monte Carlo dữ liệu bán hàng lịch sử của bạn. Chương trình sẽ ước tính các giá trị bán hàng khác nhau dựa trên các yếu tố như điều kiện thị trường chung, giá sản phẩm và ngân sách quảng cáo.\n",
    "Trích: https://aws.amazon.com/vi/what-is/monte-carlo-simulation/"
   ]
  },
  {
   "cell_type": "markdown",
   "id": "42e835ce",
   "metadata": {},
   "source": [
    "## Bài toán:\n",
    "Như vậy hiểu một cách đơn giản, Monte Carlo là một phương pháp ước lượng, dựa trên thông tin đầu vão ngẫu nhiên nhằm tìm ra (ước lượng) phân phối của của đầu ra (mà các phương pháp toán tính toán thông thường không thể tính được). Nói tóm lại, với một số bài toán phức tạp, ta không tính được kết quả chính xác, thì ta ước lượng kết quả trong một khoảng giá trị có xác suất xảy ra cao nhất, bằng cách cho một hoặc nhiều biến đầu vào nhận các giá trị ngẫu nhiên. Để rõ hơn vấn đề, ta sẽ giải bài toán cụ thể bên dưới.\n",
    "\n",
    "Công ty muốn đưa ra chính sách hoa hồng cơ bản mới cho đại lý với tỷ lệ dựa trên mức độ hoàn thành chỉ tiêu như sau:  \n",
    "    - 0-90% = 2%  \n",
    "    - 91-99% = 3%  \n",
    "    - >= 100 = 4%  \n",
    "\n",
    "Biết rằng công ty có 1000 đại lí với level và tỷ lệ như sau FTD (5%), FTM (20%), FTA (75%) với mức cam kết lần lượt là 300tr, 100tr, 50tr."
   ]
  },
  {
   "cell_type": "markdown",
   "id": "ea76f55a",
   "metadata": {},
   "source": [
    "## Thực hiện:\n",
    "\n",
    "- Thống kê cho thấy, trung bình, mỗi đại lý có tỷ lệ hoàn thành KPI đạt 88% với phương sai là 40%. Với giả định tỷ lệ hoàn thành chỉ tiêu có phân phối chuẩn.  \n",
    "    + Ta có biến đầu vào X là tỷ lệ hoàn thành KPI.  \n",
    "    + Ta sẽ chạy mô phỏng trên 10.000 lần\n"
   ]
  },
  {
   "cell_type": "code",
   "execution_count": 5,
   "id": "7be817a9",
   "metadata": {},
   "outputs": [],
   "source": [
    "import pandas as pd\n",
    "import numpy as np\n",
    "import seaborn as sns"
   ]
  },
  {
   "cell_type": "markdown",
   "id": "f3cd58d5",
   "metadata": {},
   "source": [
    "### Xác định các hằng số:"
   ]
  },
  {
   "cell_type": "code",
   "execution_count": 6,
   "id": "24208148",
   "metadata": {
    "editable": true,
    "slideshow": {
     "slide_type": ""
    },
    "tags": []
   },
   "outputs": [],
   "source": [
    "avg = 0.88\n",
    "std_dev = .4\n",
    "num_agt = 1000\n",
    "num_simulations = 10000\n",
    "# Show an example of calculating the percent to target\n",
    "kpi_achievement = np.random.normal(avg, std_dev, num_simulations).round(2)"
   ]
  },
  {
   "cell_type": "markdown",
   "id": "d833d674",
   "metadata": {
    "editable": true,
    "slideshow": {
     "slide_type": ""
    },
    "tags": []
   },
   "source": [
    "### Tạo giá trị ngẫu nhiên cho biến đầu vào:\n",
    "Như đã trình bày ở trên, tỷ lệ hoàn thành của 1 người là biến ngẫu nhiên theo phân phối chuẩn có u=.88 và std=.4.  \n",
    "Với mỗi lần mô phỏng:  \n",
    "    - Ta gán ngẫu nhiên tỷ lệ hoàn thành cho từng người trong 1000 agent và thực hiện tính commission.  \n",
    "    - Từ đó, cùng với kpi mà cá nhân cam kết, tính được số actual sale và sau đó tính được tỷ lệ commision"
   ]
  },
  {
   "cell_type": "markdown",
   "id": "ea38c04c",
   "metadata": {},
   "source": [
    "Công thức tính tỷ lệ hoa hồng:"
   ]
  },
  {
   "cell_type": "code",
   "execution_count": 10,
   "id": "9aae38dd",
   "metadata": {
    "editable": true,
    "slideshow": {
     "slide_type": ""
    },
    "tags": []
   },
   "outputs": [],
   "source": [
    "def get_commission_rate(x):\n",
    "    if x <= .90:\n",
    "        return .02\n",
    "    if x <= .99:\n",
    "        return .03\n",
    "    else:\n",
    "        return .04"
   ]
  },
  {
   "cell_type": "code",
   "execution_count": 11,
   "id": "ca1da2a8",
   "metadata": {},
   "outputs": [],
   "source": [
    "data['commission_rate'] =data['achievement'].map(get_commission_rate)\n",
    "data['commission_amt'] = data['commission_rate'] * data['actual_sales']"
   ]
  },
  {
   "cell_type": "code",
   "execution_count": 12,
   "id": "f2dbc292",
   "metadata": {
    "editable": true,
    "slideshow": {
     "slide_type": ""
    },
    "tags": []
   },
   "outputs": [
    {
     "data": {
      "text/html": [
       "<div>\n",
       "<style scoped>\n",
       "    .dataframe tbody tr th:only-of-type {\n",
       "        vertical-align: middle;\n",
       "    }\n",
       "\n",
       "    .dataframe tbody tr th {\n",
       "        vertical-align: top;\n",
       "    }\n",
       "\n",
       "    .dataframe thead th {\n",
       "        text-align: right;\n",
       "    }\n",
       "</style>\n",
       "<table border=\"1\" class=\"dataframe\">\n",
       "  <thead>\n",
       "    <tr style=\"text-align: right;\">\n",
       "      <th></th>\n",
       "      <th>kpi</th>\n",
       "      <th>actual_sales</th>\n",
       "      <th>achievement</th>\n",
       "      <th>commission_rate</th>\n",
       "      <th>commission_amt</th>\n",
       "    </tr>\n",
       "  </thead>\n",
       "  <tbody>\n",
       "    <tr>\n",
       "      <th>0</th>\n",
       "      <td>50000000</td>\n",
       "      <td>2.799999e+07</td>\n",
       "      <td>0.560000</td>\n",
       "      <td>0.02</td>\n",
       "      <td>5.599998e+05</td>\n",
       "    </tr>\n",
       "    <tr>\n",
       "      <th>1</th>\n",
       "      <td>50000000</td>\n",
       "      <td>4.173368e+07</td>\n",
       "      <td>0.834674</td>\n",
       "      <td>0.02</td>\n",
       "      <td>8.346736e+05</td>\n",
       "    </tr>\n",
       "    <tr>\n",
       "      <th>2</th>\n",
       "      <td>50000000</td>\n",
       "      <td>5.457238e+07</td>\n",
       "      <td>1.091448</td>\n",
       "      <td>0.04</td>\n",
       "      <td>2.182895e+06</td>\n",
       "    </tr>\n",
       "    <tr>\n",
       "      <th>3</th>\n",
       "      <td>50000000</td>\n",
       "      <td>5.907039e+07</td>\n",
       "      <td>1.181408</td>\n",
       "      <td>0.04</td>\n",
       "      <td>2.362815e+06</td>\n",
       "    </tr>\n",
       "    <tr>\n",
       "      <th>4</th>\n",
       "      <td>50000000</td>\n",
       "      <td>1.188273e+07</td>\n",
       "      <td>0.237655</td>\n",
       "      <td>0.02</td>\n",
       "      <td>2.376546e+05</td>\n",
       "    </tr>\n",
       "  </tbody>\n",
       "</table>\n",
       "</div>"
      ],
      "text/plain": [
       "        kpi  actual_sales  achievement  commission_rate  commission_amt\n",
       "0  50000000  2.799999e+07     0.560000             0.02    5.599998e+05\n",
       "1  50000000  4.173368e+07     0.834674             0.02    8.346736e+05\n",
       "2  50000000  5.457238e+07     1.091448             0.04    2.182895e+06\n",
       "3  50000000  5.907039e+07     1.181408             0.04    2.362815e+06\n",
       "4  50000000  1.188273e+07     0.237655             0.02    2.376546e+05"
      ]
     },
     "execution_count": 12,
     "metadata": {},
     "output_type": "execute_result"
    }
   ],
   "source": [
    "data.head()"
   ]
  },
  {
   "cell_type": "markdown",
   "id": "4abbf42a",
   "metadata": {},
   "source": [
    "### Kết quả 1 lần mô phỏng:\n",
    "- Ta thấy rằng, với 1 lần mô phỏng, ta nhận được kết quả số tiền hoa hồng cần chi trả là: 2.3 tỷ đồng cho doanh thu 70.7 tỷ (khoảng 3.1%).\n",
    "- Phần lớn đại lý nhận được hoa hồng trong khoảng 1.4tr/người."
   ]
  },
  {
   "cell_type": "code",
   "execution_count": 13,
   "id": "6735a3ef",
   "metadata": {},
   "outputs": [
    {
     "data": {
      "text/plain": [
       "kpi                7.780000e+10\n",
       "actual_sales       7.075303e+10\n",
       "achievement        8.800557e+02\n",
       "commission_rate    2.885000e+01\n",
       "commission_amt     2.323969e+09\n",
       "dtype: float64"
      ]
     },
     "execution_count": 13,
     "metadata": {},
     "output_type": "execute_result"
    }
   ],
   "source": [
    "data.sum()"
   ]
  },
  {
   "cell_type": "code",
   "execution_count": 14,
   "id": "394ae329",
   "metadata": {},
   "outputs": [
    {
     "data": {
      "text/plain": [
       "<Axes: xlabel='commission_amt', ylabel='Count'>"
      ]
     },
     "execution_count": 14,
     "metadata": {},
     "output_type": "execute_result"
    },
    {
     "data": {
      "image/png": "[encoded data removed]",
      "text/plain": [
       "<Figure size 640x480 with 1 Axes>"
      ]
     },
     "metadata": {},
     "output_type": "display_data"
    }
   ],
   "source": [
    "sns.histplot(data=data, x='commission_amt')"
   ]
  },
  {
   "cell_type": "code",
   "execution_count": 15,
   "id": "0e4dcf3f",
   "metadata": {},
   "outputs": [
    {
     "data": {
      "text/html": [
       "<div>\n",
       "<style scoped>\n",
       "    .dataframe tbody tr th:only-of-type {\n",
       "        vertical-align: middle;\n",
       "    }\n",
       "\n",
       "    .dataframe tbody tr th {\n",
       "        vertical-align: top;\n",
       "    }\n",
       "\n",
       "    .dataframe thead th {\n",
       "        text-align: right;\n",
       "    }\n",
       "</style>\n",
       "<table border=\"1\" class=\"dataframe\">\n",
       "  <thead>\n",
       "    <tr style=\"text-align: right;\">\n",
       "      <th></th>\n",
       "      <th>kpi</th>\n",
       "      <th>actual_sales</th>\n",
       "      <th>achievement</th>\n",
       "      <th>commission_rate</th>\n",
       "      <th>commission_amt</th>\n",
       "    </tr>\n",
       "  </thead>\n",
       "  <tbody>\n",
       "    <tr>\n",
       "      <th>count</th>\n",
       "      <td>1.000000e+03</td>\n",
       "      <td>1.000000e+03</td>\n",
       "      <td>1000.000000</td>\n",
       "      <td>1000.000000</td>\n",
       "      <td>1.000000e+03</td>\n",
       "    </tr>\n",
       "    <tr>\n",
       "      <th>mean</th>\n",
       "      <td>7.780000e+07</td>\n",
       "      <td>7.075303e+07</td>\n",
       "      <td>0.880056</td>\n",
       "      <td>0.028850</td>\n",
       "      <td>2.323969e+06</td>\n",
       "    </tr>\n",
       "    <tr>\n",
       "      <th>std</th>\n",
       "      <td>6.221761e+07</td>\n",
       "      <td>7.529038e+07</td>\n",
       "      <td>0.395456</td>\n",
       "      <td>0.009501</td>\n",
       "      <td>2.985300e+06</td>\n",
       "    </tr>\n",
       "    <tr>\n",
       "      <th>min</th>\n",
       "      <td>5.000000e+07</td>\n",
       "      <td>-2.075882e+07</td>\n",
       "      <td>-0.373618</td>\n",
       "      <td>0.020000</td>\n",
       "      <td>-4.151764e+05</td>\n",
       "    </tr>\n",
       "    <tr>\n",
       "      <th>25%</th>\n",
       "      <td>5.000000e+07</td>\n",
       "      <td>3.486031e+07</td>\n",
       "      <td>0.602845</td>\n",
       "      <td>0.020000</td>\n",
       "      <td>6.972061e+05</td>\n",
       "    </tr>\n",
       "    <tr>\n",
       "      <th>50%</th>\n",
       "      <td>5.000000e+07</td>\n",
       "      <td>5.164811e+07</td>\n",
       "      <td>0.883341</td>\n",
       "      <td>0.020000</td>\n",
       "      <td>1.445990e+06</td>\n",
       "    </tr>\n",
       "    <tr>\n",
       "      <th>75%</th>\n",
       "      <td>1.000000e+08</td>\n",
       "      <td>7.469415e+07</td>\n",
       "      <td>1.146879</td>\n",
       "      <td>0.040000</td>\n",
       "      <td>2.677205e+06</td>\n",
       "    </tr>\n",
       "    <tr>\n",
       "      <th>max</th>\n",
       "      <td>3.000000e+08</td>\n",
       "      <td>5.464043e+08</td>\n",
       "      <td>2.229650</td>\n",
       "      <td>0.040000</td>\n",
       "      <td>2.185617e+07</td>\n",
       "    </tr>\n",
       "  </tbody>\n",
       "</table>\n",
       "</div>"
      ],
      "text/plain": [
       "                kpi  actual_sales  achievement  commission_rate  \\\n",
       "count  1.000000e+03  1.000000e+03  1000.000000      1000.000000   \n",
       "mean   7.780000e+07  7.075303e+07     0.880056         0.028850   \n",
       "std    6.221761e+07  7.529038e+07     0.395456         0.009501   \n",
       "min    5.000000e+07 -2.075882e+07    -0.373618         0.020000   \n",
       "25%    5.000000e+07  3.486031e+07     0.602845         0.020000   \n",
       "50%    5.000000e+07  5.164811e+07     0.883341         0.020000   \n",
       "75%    1.000000e+08  7.469415e+07     1.146879         0.040000   \n",
       "max    3.000000e+08  5.464043e+08     2.229650         0.040000   \n",
       "\n",
       "       commission_amt  \n",
       "count    1.000000e+03  \n",
       "mean     2.323969e+06  \n",
       "std      2.985300e+06  \n",
       "min     -4.151764e+05  \n",
       "25%      6.972061e+05  \n",
       "50%      1.445990e+06  \n",
       "75%      2.677205e+06  \n",
       "max      2.185617e+07  "
      ]
     },
     "execution_count": 15,
     "metadata": {},
     "output_type": "execute_result"
    }
   ],
   "source": [
    "data.describe()"
   ]
  },
  {
   "cell_type": "markdown",
   "id": "b67c9ecf",
   "metadata": {},
   "source": [
    "### Mô phỏng 10.000 lần:\n",
    "- Lưu ý rằng kết quả ở trên chỉ là 1 lần mô phỏng với tỷ lệ hoàn thành ngẫu nhiên.\n",
    "- Trên thực tế, có thế có rất nhiều kịch bản xảy ra, do đó ta sẽ mô phỏng như cách ở trên với 10000 kịch bản khác nhau và quan sát giá trị commission thay đổi qua các lần mô phỏng từ đó rút ra được dự đoán kết quả cuối cùng."
   ]
  },
  {
   "cell_type": "code",
   "execution_count": 18,
   "id": "1976bb57",
   "metadata": {},
   "outputs": [
    {
     "data": {
      "text/html": [
       "<div>\n",
       "<style scoped>\n",
       "    .dataframe tbody tr th:only-of-type {\n",
       "        vertical-align: middle;\n",
       "    }\n",
       "\n",
       "    .dataframe tbody tr th {\n",
       "        vertical-align: top;\n",
       "    }\n",
       "\n",
       "    .dataframe thead th {\n",
       "        text-align: right;\n",
       "    }\n",
       "</style>\n",
       "<table border=\"1\" class=\"dataframe\">\n",
       "  <thead>\n",
       "    <tr style=\"text-align: right;\">\n",
       "      <th></th>\n",
       "      <th>actual_sales</th>\n",
       "      <th>commission_amt</th>\n",
       "    </tr>\n",
       "  </thead>\n",
       "  <tbody>\n",
       "    <tr>\n",
       "      <th>count</th>\n",
       "      <td>1.000000e+04</td>\n",
       "      <td>1.000000e+04</td>\n",
       "    </tr>\n",
       "    <tr>\n",
       "      <th>mean</th>\n",
       "      <td>6.378856e+10</td>\n",
       "      <td>2.058442e+09</td>\n",
       "    </tr>\n",
       "    <tr>\n",
       "      <th>std</th>\n",
       "      <td>1.924806e+09</td>\n",
       "      <td>7.510431e+07</td>\n",
       "    </tr>\n",
       "    <tr>\n",
       "      <th>min</th>\n",
       "      <td>5.642464e+10</td>\n",
       "      <td>1.780217e+09</td>\n",
       "    </tr>\n",
       "    <tr>\n",
       "      <th>25%</th>\n",
       "      <td>6.248184e+10</td>\n",
       "      <td>2.007270e+09</td>\n",
       "    </tr>\n",
       "    <tr>\n",
       "      <th>50%</th>\n",
       "      <td>6.374673e+10</td>\n",
       "      <td>2.056782e+09</td>\n",
       "    </tr>\n",
       "    <tr>\n",
       "      <th>75%</th>\n",
       "      <td>6.507497e+10</td>\n",
       "      <td>2.107714e+09</td>\n",
       "    </tr>\n",
       "    <tr>\n",
       "      <th>max</th>\n",
       "      <td>7.115723e+10</td>\n",
       "      <td>2.356519e+09</td>\n",
       "    </tr>\n",
       "  </tbody>\n",
       "</table>\n",
       "</div>"
      ],
      "text/plain": [
       "       actual_sales  commission_amt\n",
       "count  1.000000e+04    1.000000e+04\n",
       "mean   6.378856e+10    2.058442e+09\n",
       "std    1.924806e+09    7.510431e+07\n",
       "min    5.642464e+10    1.780217e+09\n",
       "25%    6.248184e+10    2.007270e+09\n",
       "50%    6.374673e+10    2.056782e+09\n",
       "75%    6.507497e+10    2.107714e+09\n",
       "max    7.115723e+10    2.356519e+09"
      ]
     },
     "execution_count": 18,
     "metadata": {},
     "output_type": "execute_result"
    }
   ],
   "source": [
    "result.describe()"
   ]
  },
  {
   "cell_type": "code",
   "execution_count": 19,
   "id": "5d2f5588",
   "metadata": {},
   "outputs": [
    {
     "data": {
      "text/plain": [
       "<Axes: xlabel='commission_amt', ylabel='Probability'>"
      ]
     },
     "execution_count": 19,
     "metadata": {},
     "output_type": "execute_result"
    },
    {
     "data": {
      "image/png": "[encoded data removed]",
      "text/plain": [
       "<Figure size 640x480 with 1 Axes>"
      ]
     },
     "metadata": {},
     "output_type": "display_data"
    }
   ],
   "source": [
    "sns.histplot(data=result, x='commission_amt',stat='probability' )"
   ]
  },
  {
   "cell_type": "markdown",
   "id": "d6a68cc0",
   "metadata": {},
   "source": [
    "## Kết luận:\n",
    "- Sau khi mô phỏng 10.000 lần ta thấy rằng tổng số tiền hoa hồng cần chi trả có xác suất xảy ra cao nhất ở vùng giá trị 2.0-2.15 tỷ đồng.\n",
    "- Giá trị nhỏ nhất là 1.8 tỷ và nhiều nhất khoảng 2.4 tỷ.\n",
    "- Giả sử budget cho commission là 2.2 tỷ đồng, thì xác suất over budget của là 3%."
   ]
  },
  {
   "cell_type": "code",
   "execution_count": 20,
   "id": "44061e37",
   "metadata": {},
   "outputs": [
    {
     "data": {
      "text/plain": [
       "0.0297270838814373"
      ]
     },
     "execution_count": 20,
     "metadata": {},
     "output_type": "execute_result"
    }
   ],
   "source": [
    "from scipy.stats import norm\n",
    "\n",
    "1 - norm.cdf(x=2200000000, loc=result.commission_amt.mean(), scale=result.commission_amt.std())"
   ]
  },
  {
   "cell_type": "code",
   "execution_count": null,
   "id": "1104d34f",
   "metadata": {
    "editable": true,
    "slideshow": {
     "slide_type": ""
    },
    "tags": []
   },
   "outputs": [],
   "source": []
  }
 ],
 "metadata": {
  "kernelspec": {
   "display_name": "Python 3 (ipykernel)",
   "language": "python",
   "name": "python3"
  },
  "language_info": {
   "codemirror_mode": {
    "name": "ipython",
    "version": 3
   },
   "file_extension": ".py",
   "mimetype": "text/x-python",
   "name": "python",
   "nbconvert_exporter": "python",
   "pygments_lexer": "ipython3",
   "version": "3.12.4"
  }
 },
 "nbformat": 4,
 "nbformat_minor": 5
}
