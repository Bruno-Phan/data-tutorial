{
 "cells": [
  {
   "cell_type": "markdown",
   "id": "a1115aa2",
   "metadata": {
    "slideshow": {
     "slide_type": ""
    },
    "tags": []
   },
   "source": [
    "# Ước tính ngân sách hoa hồng bằng phương pháp Monte Carlo"
   ]
  },
  {
   "cell_type": "markdown",
   "id": "3b008d89",
   "metadata": {},
   "source": [
    "## Monte Carlo Simulation:\n",
    "Mô phỏng Monte Carlo là gì?\n",
    "Mô phỏng Monte Carlo là một kỹ thuật toán học dự đoán kết quả có thể xảy ra của một sự kiện không chắc chắn. Các chương trình máy tính sử dụng phương pháp này để phân tích dữ liệu trong quá khứ và dự đoán một loạt các kết quả trong tương lai dựa trên một lựa chọn hành động. Ví dụ: nếu bạn muốn ước tính doanh số bán hàng trong tháng đầu tiên của một sản phẩm mới, bạn có thể cung cấp cho chương trình mô phỏng Monte Carlo dữ liệu bán hàng lịch sử của bạn. Chương trình sẽ ước tính các giá trị bán hàng khác nhau dựa trên các yếu tố như điều kiện thị trường chung, giá sản phẩm và ngân sách quảng cáo.\n",
    "Trích: https://aws.amazon.com/vi/what-is/monte-carlo-simulation/"
   ]
  },
  {
   "cell_type": "markdown",
   "id": "42e835ce",
   "metadata": {},
   "source": [
    "## Bài toán:\n",
    "Như vậy hiểu một cách đơn giản, Monte Carlo là một phương pháp ước lượng, dựa trên thông tin đầu vão ngẫu nhiên nhằm tìm ra (ước lượng) phân phối của của đầu ra (mà các phương pháp toán tính toán thông thường không thể tính được). Nói tóm lại, với một số bài toán phức tạp, ta không tính được kết quả chính xác, thì ta ước lượng kết quả trong một khoảng giá trị có xác suất xảy ra cao nhất, bằng cách cho một hoặc nhiều biến đầu vào nhận các giá trị ngẫu nhiên. Để rõ hơn vấn đề, ta sẽ giải bài toán cụ thể bên dưới.\n",
    "\n",
    "Công ty muốn đưa ra chính sách hoa hồng cơ bản mới cho đại lý với tỷ lệ dựa trên mức độ hoàn thành chỉ tiêu như sau:  \n",
    "    - 0-90% = 2%  \n",
    "    - 91-99% = 3%  \n",
    "    - >= 100 = 4%  \n",
    "\n",
    "Biết rằng công ty có 1000 đại lí với level và tỷ lệ như sau FTD (5%), FTM (20%), FTA (75%) với mức cam kết lần lượt là 300tr, 100tr, 50tr."
   ]
  },
  {
   "cell_type": "markdown",
   "id": "ea76f55a",
   "metadata": {},
   "source": [
    "## Thực hiện:\n",
    "\n",
    "- Thống kê cho thấy, trung bình, mỗi đại lý có tỷ lệ hoàn thành KPI đạt 88% với phương sai là 20%. Với giả định tỷ lệ hoàn thành chỉ tiêu có phân phối chuẩn.  \n",
    "    + Ta có biến đầu vào X là tỷ lệ hoàn thành KPI.  \n",
    "    + Ta sẽ chạy mô phỏng trên 10.000 lần\n"
   ]
  },
  {
   "cell_type": "code",
   "execution_count": 1,
   "id": "7be817a9",
   "metadata": {},
   "outputs": [],
   "source": [
    "import pandas as pd\n",
    "import numpy as np\n",
    "import seaborn as sns"
   ]
  },
  {
   "cell_type": "markdown",
   "id": "f3cd58d5",
   "metadata": {},
   "source": [
    "### Xác định các hằng số:"
   ]
  },
  {
   "cell_type": "code",
   "execution_count": 2,
   "id": "24208148",
   "metadata": {
    "slideshow": {
     "slide_type": ""
    },
    "tags": []
   },
   "outputs": [],
   "source": [
    "avg = 0.88\n",
    "std_dev = .2\n",
    "num_agt = 1000\n",
    "num_simulations = 10000\n",
    "# Show an example of calculating the percent to target\n",
    "kpi_achievement = np.random.normal(avg, std_dev, num_agt).round(2)"
   ]
  },
  {
   "cell_type": "markdown",
   "id": "d833d674",
   "metadata": {
    "slideshow": {
     "slide_type": ""
    },
    "tags": []
   },
   "source": [
    "### Tạo giá trị ngẫu nhiên cho biến đầu vào:\n",
    "Như đã trình bày ở trên, tỷ lệ hoàn thành của 1 người là biến ngẫu nhiên theo phân phối chuẩn có u=.88 và std=.2.  \n",
    "Với mỗi lần mô phỏng:  \n",
    "    - Ta gán ngẫu nhiên tỷ lệ hoàn thành cho từng người trong 1000 agent và thực hiện tính commission.  \n",
    "    - Từ đó, cùng với kpi mà cá nhân cam kết, tính được số actual sale và sau đó tính được tỷ lệ commision"
   ]
  },
  {
   "cell_type": "markdown",
   "id": "ea38c04c",
   "metadata": {},
   "source": [
    "Công thức tính tỷ lệ hoa hồng:"
   ]
  },
  {
   "cell_type": "code",
   "execution_count": 4,
   "id": "9aae38dd",
   "metadata": {
    "slideshow": {
     "slide_type": ""
    },
    "tags": []
   },
   "outputs": [],
   "source": [
    "def get_commission_rate(x):\n",
    "    if x <= .90:\n",
    "        return .02\n",
    "    if x <= .99:\n",
    "        return .03\n",
    "    else:\n",
    "        return .04"
   ]
  },
  {
   "cell_type": "code",
   "execution_count": 5,
   "id": "ca1da2a8",
   "metadata": {},
   "outputs": [],
   "source": [
    "data = pd.DataFrame(data= {'personal_target':personal_target,'achievement':kpi_achievement})\n",
    "data['actual_sales'] = data['personal_target']*data['achievement']\n",
    "data['commission_rate'] =data['achievement'].map(get_commission_rate)\n",
    "data['commission_amt'] = data['commission_rate'] * data['actual_sales']"
   ]
  },
  {
   "cell_type": "code",
   "execution_count": 6,
   "id": "e95c1509",
   "metadata": {},
   "outputs": [
    {
     "data": {
      "text/html": [
       "<div>\n",
       "<style scoped>\n",
       "    .dataframe tbody tr th:only-of-type {\n",
       "        vertical-align: middle;\n",
       "    }\n",
       "\n",
       "    .dataframe tbody tr th {\n",
       "        vertical-align: top;\n",
       "    }\n",
       "\n",
       "    .dataframe thead th {\n",
       "        text-align: right;\n",
       "    }\n",
       "</style>\n",
       "<table border=\"1\" class=\"dataframe\">\n",
       "  <thead>\n",
       "    <tr style=\"text-align: right;\">\n",
       "      <th></th>\n",
       "      <th>achievement</th>\n",
       "    </tr>\n",
       "  </thead>\n",
       "  <tbody>\n",
       "    <tr>\n",
       "      <th>count</th>\n",
       "      <td>1000.00000</td>\n",
       "    </tr>\n",
       "    <tr>\n",
       "      <th>mean</th>\n",
       "      <td>0.87536</td>\n",
       "    </tr>\n",
       "    <tr>\n",
       "      <th>std</th>\n",
       "      <td>0.20555</td>\n",
       "    </tr>\n",
       "    <tr>\n",
       "      <th>min</th>\n",
       "      <td>0.19000</td>\n",
       "    </tr>\n",
       "    <tr>\n",
       "      <th>25%</th>\n",
       "      <td>0.74000</td>\n",
       "    </tr>\n",
       "    <tr>\n",
       "      <th>50%</th>\n",
       "      <td>0.88000</td>\n",
       "    </tr>\n",
       "    <tr>\n",
       "      <th>75%</th>\n",
       "      <td>1.02000</td>\n",
       "    </tr>\n",
       "    <tr>\n",
       "      <th>max</th>\n",
       "      <td>1.53000</td>\n",
       "    </tr>\n",
       "  </tbody>\n",
       "</table>\n",
       "</div>"
      ],
      "text/plain": [
       "       achievement\n",
       "count   1000.00000\n",
       "mean       0.87536\n",
       "std        0.20555\n",
       "min        0.19000\n",
       "25%        0.74000\n",
       "50%        0.88000\n",
       "75%        1.02000\n",
       "max        1.53000"
      ]
     },
     "execution_count": 6,
     "metadata": {},
     "output_type": "execute_result"
    }
   ],
   "source": [
    "data[['achievement']].describe()"
   ]
  },
  {
   "cell_type": "code",
   "execution_count": 7,
   "id": "f2dbc292",
   "metadata": {
    "slideshow": {
     "slide_type": ""
    },
    "tags": []
   },
   "outputs": [
    {
     "data": {
      "text/html": [
       "<div>\n",
       "<style scoped>\n",
       "    .dataframe tbody tr th:only-of-type {\n",
       "        vertical-align: middle;\n",
       "    }\n",
       "\n",
       "    .dataframe tbody tr th {\n",
       "        vertical-align: top;\n",
       "    }\n",
       "\n",
       "    .dataframe thead th {\n",
       "        text-align: right;\n",
       "    }\n",
       "</style>\n",
       "<table border=\"1\" class=\"dataframe\">\n",
       "  <thead>\n",
       "    <tr style=\"text-align: right;\">\n",
       "      <th></th>\n",
       "      <th>personal_target</th>\n",
       "      <th>achievement</th>\n",
       "      <th>actual_sales</th>\n",
       "      <th>commission_rate</th>\n",
       "      <th>commission_amt</th>\n",
       "    </tr>\n",
       "  </thead>\n",
       "  <tbody>\n",
       "    <tr>\n",
       "      <th>0</th>\n",
       "      <td>50000000</td>\n",
       "      <td>0.51</td>\n",
       "      <td>25500000.0</td>\n",
       "      <td>0.02</td>\n",
       "      <td>510000.0</td>\n",
       "    </tr>\n",
       "    <tr>\n",
       "      <th>1</th>\n",
       "      <td>50000000</td>\n",
       "      <td>1.05</td>\n",
       "      <td>52500000.0</td>\n",
       "      <td>0.04</td>\n",
       "      <td>2100000.0</td>\n",
       "    </tr>\n",
       "    <tr>\n",
       "      <th>2</th>\n",
       "      <td>50000000</td>\n",
       "      <td>1.14</td>\n",
       "      <td>57000000.0</td>\n",
       "      <td>0.04</td>\n",
       "      <td>2280000.0</td>\n",
       "    </tr>\n",
       "    <tr>\n",
       "      <th>3</th>\n",
       "      <td>50000000</td>\n",
       "      <td>0.75</td>\n",
       "      <td>37500000.0</td>\n",
       "      <td>0.02</td>\n",
       "      <td>750000.0</td>\n",
       "    </tr>\n",
       "    <tr>\n",
       "      <th>4</th>\n",
       "      <td>50000000</td>\n",
       "      <td>1.06</td>\n",
       "      <td>53000000.0</td>\n",
       "      <td>0.04</td>\n",
       "      <td>2120000.0</td>\n",
       "    </tr>\n",
       "  </tbody>\n",
       "</table>\n",
       "</div>"
      ],
      "text/plain": [
       "   personal_target  achievement  actual_sales  commission_rate  commission_amt\n",
       "0         50000000         0.51    25500000.0             0.02        510000.0\n",
       "1         50000000         1.05    52500000.0             0.04       2100000.0\n",
       "2         50000000         1.14    57000000.0             0.04       2280000.0\n",
       "3         50000000         0.75    37500000.0             0.02        750000.0\n",
       "4         50000000         1.06    53000000.0             0.04       2120000.0"
      ]
     },
     "execution_count": 7,
     "metadata": {},
     "output_type": "execute_result"
    }
   ],
   "source": [
    "data.head()"
   ]
  },
  {
   "cell_type": "markdown",
   "id": "4abbf42a",
   "metadata": {},
   "source": [
    "### Kết quả 1 lần mô phỏng:\n",
    "- Ta thấy rằng, với 1 lần mô phỏng, ta nhận được kết quả số tiền hoa hồng cần chi trả là: 1.8 tỷ đồng cho doanh thu 63.8 tỷ (khoảng ~3%).\n",
    "- Phần lớn đại lý nhận được hoa hồng trong khoảng 1.8tr/người."
   ]
  },
  {
   "cell_type": "code",
   "execution_count": 8,
   "id": "6735a3ef",
   "metadata": {},
   "outputs": [
    {
     "data": {
      "text/plain": [
       "personal_target    7.295000e+10\n",
       "achievement        8.753600e+02\n",
       "actual_sales       6.385250e+10\n",
       "commission_rate    2.758000e+01\n",
       "commission_amt     1.864635e+09\n",
       "dtype: float64"
      ]
     },
     "execution_count": 8,
     "metadata": {},
     "output_type": "execute_result"
    }
   ],
   "source": [
    "data.sum()"
   ]
  },
  {
   "cell_type": "code",
   "execution_count": 9,
   "id": "394ae329",
   "metadata": {},
   "outputs": [
    {
     "data": {
      "text/plain": [
       "<Axes: xlabel='commission_amt', ylabel='Count'>"
      ]
     },
     "execution_count": 9,
     "metadata": {},
     "output_type": "execute_result"
    },
    {
     "data": {
      "image/png": "[encoded data removed]",
      "text/plain": [
       "<Figure size 640x480 with 1 Axes>"
      ]
     },
     "metadata": {},
     "output_type": "display_data"
    }
   ],
   "source": [
    "sns.histplot(data=data, x='commission_amt')"
   ]
  },
  {
   "cell_type": "code",
   "execution_count": 10,
   "id": "0e4dcf3f",
   "metadata": {},
   "outputs": [
    {
     "data": {
      "text/html": [
       "<div>\n",
       "<style scoped>\n",
       "    .dataframe tbody tr th:only-of-type {\n",
       "        vertical-align: middle;\n",
       "    }\n",
       "\n",
       "    .dataframe tbody tr th {\n",
       "        vertical-align: top;\n",
       "    }\n",
       "\n",
       "    .dataframe thead th {\n",
       "        text-align: right;\n",
       "    }\n",
       "</style>\n",
       "<table border=\"1\" class=\"dataframe\">\n",
       "  <thead>\n",
       "    <tr style=\"text-align: right;\">\n",
       "      <th></th>\n",
       "      <th>personal_target</th>\n",
       "      <th>achievement</th>\n",
       "      <th>actual_sales</th>\n",
       "      <th>commission_rate</th>\n",
       "      <th>commission_amt</th>\n",
       "    </tr>\n",
       "  </thead>\n",
       "  <tbody>\n",
       "    <tr>\n",
       "      <th>count</th>\n",
       "      <td>1.000000e+03</td>\n",
       "      <td>1000.00000</td>\n",
       "      <td>1.000000e+03</td>\n",
       "      <td>1000.000000</td>\n",
       "      <td>1.000000e+03</td>\n",
       "    </tr>\n",
       "    <tr>\n",
       "      <th>mean</th>\n",
       "      <td>7.295000e+07</td>\n",
       "      <td>0.87536</td>\n",
       "      <td>6.385250e+07</td>\n",
       "      <td>0.027580</td>\n",
       "      <td>1.864635e+06</td>\n",
       "    </tr>\n",
       "    <tr>\n",
       "      <th>std</th>\n",
       "      <td>5.678047e+07</td>\n",
       "      <td>0.20555</td>\n",
       "      <td>5.261105e+07</td>\n",
       "      <td>0.008844</td>\n",
       "      <td>1.828467e+06</td>\n",
       "    </tr>\n",
       "    <tr>\n",
       "      <th>min</th>\n",
       "      <td>5.000000e+07</td>\n",
       "      <td>0.19000</td>\n",
       "      <td>9.500000e+06</td>\n",
       "      <td>0.020000</td>\n",
       "      <td>1.900000e+05</td>\n",
       "    </tr>\n",
       "    <tr>\n",
       "      <th>25%</th>\n",
       "      <td>5.000000e+07</td>\n",
       "      <td>0.74000</td>\n",
       "      <td>3.900000e+07</td>\n",
       "      <td>0.020000</td>\n",
       "      <td>7.800000e+05</td>\n",
       "    </tr>\n",
       "    <tr>\n",
       "      <th>50%</th>\n",
       "      <td>5.000000e+07</td>\n",
       "      <td>0.88000</td>\n",
       "      <td>4.825000e+07</td>\n",
       "      <td>0.020000</td>\n",
       "      <td>1.410000e+06</td>\n",
       "    </tr>\n",
       "    <tr>\n",
       "      <th>75%</th>\n",
       "      <td>1.000000e+08</td>\n",
       "      <td>1.02000</td>\n",
       "      <td>6.100000e+07</td>\n",
       "      <td>0.040000</td>\n",
       "      <td>2.180000e+06</td>\n",
       "    </tr>\n",
       "    <tr>\n",
       "      <th>max</th>\n",
       "      <td>3.000000e+08</td>\n",
       "      <td>1.53000</td>\n",
       "      <td>4.590000e+08</td>\n",
       "      <td>0.040000</td>\n",
       "      <td>1.836000e+07</td>\n",
       "    </tr>\n",
       "  </tbody>\n",
       "</table>\n",
       "</div>"
      ],
      "text/plain": [
       "       personal_target  achievement  actual_sales  commission_rate  \\\n",
       "count     1.000000e+03   1000.00000  1.000000e+03      1000.000000   \n",
       "mean      7.295000e+07      0.87536  6.385250e+07         0.027580   \n",
       "std       5.678047e+07      0.20555  5.261105e+07         0.008844   \n",
       "min       5.000000e+07      0.19000  9.500000e+06         0.020000   \n",
       "25%       5.000000e+07      0.74000  3.900000e+07         0.020000   \n",
       "50%       5.000000e+07      0.88000  4.825000e+07         0.020000   \n",
       "75%       1.000000e+08      1.02000  6.100000e+07         0.040000   \n",
       "max       3.000000e+08      1.53000  4.590000e+08         0.040000   \n",
       "\n",
       "       commission_amt  \n",
       "count    1.000000e+03  \n",
       "mean     1.864635e+06  \n",
       "std      1.828467e+06  \n",
       "min      1.900000e+05  \n",
       "25%      7.800000e+05  \n",
       "50%      1.410000e+06  \n",
       "75%      2.180000e+06  \n",
       "max      1.836000e+07  "
      ]
     },
     "execution_count": 10,
     "metadata": {},
     "output_type": "execute_result"
    }
   ],
   "source": [
    "data.describe()"
   ]
  },
  {
   "cell_type": "markdown",
   "id": "b67c9ecf",
   "metadata": {},
   "source": [
    "### Mô phỏng 10.000 lần:\n",
    "- Lưu ý rằng kết quả ở trên chỉ là 1 lần mô phỏng với tỷ lệ hoàn thành ngẫu nhiên.\n",
    "- Trên thực tế, có thế có rất nhiều kịch bản xảy ra, do đó ta sẽ mô phỏng như cách ở trên với 10000 kịch bản khác nhau và quan sát giá trị commission thay đổi qua các lần mô phỏng từ đó rút ra được dự đoán kết quả cuối cùng."
   ]
  },
  {
   "cell_type": "code",
   "execution_count": 12,
   "id": "1976bb57",
   "metadata": {
    "scrolled": true
   },
   "outputs": [
    {
     "data": {
      "text/html": [
       "<div>\n",
       "<style scoped>\n",
       "    .dataframe tbody tr th:only-of-type {\n",
       "        vertical-align: middle;\n",
       "    }\n",
       "\n",
       "    .dataframe tbody tr th {\n",
       "        vertical-align: top;\n",
       "    }\n",
       "\n",
       "    .dataframe thead th {\n",
       "        text-align: right;\n",
       "    }\n",
       "</style>\n",
       "<table border=\"1\" class=\"dataframe\">\n",
       "  <thead>\n",
       "    <tr style=\"text-align: right;\">\n",
       "      <th></th>\n",
       "      <th>commission_amt</th>\n",
       "      <th>actual_sales</th>\n",
       "    </tr>\n",
       "  </thead>\n",
       "  <tbody>\n",
       "    <tr>\n",
       "      <th>count</th>\n",
       "      <td>1.000000e+04</td>\n",
       "      <td>1.000000e+04</td>\n",
       "    </tr>\n",
       "    <tr>\n",
       "      <th>mean</th>\n",
       "      <td>1.850891e+09</td>\n",
       "      <td>6.382119e+10</td>\n",
       "    </tr>\n",
       "    <tr>\n",
       "      <th>std</th>\n",
       "      <td>5.926697e+07</td>\n",
       "      <td>1.642265e+09</td>\n",
       "    </tr>\n",
       "    <tr>\n",
       "      <th>min</th>\n",
       "      <td>1.624805e+09</td>\n",
       "      <td>5.834150e+10</td>\n",
       "    </tr>\n",
       "    <tr>\n",
       "      <th>25%</th>\n",
       "      <td>1.810796e+09</td>\n",
       "      <td>6.270950e+10</td>\n",
       "    </tr>\n",
       "    <tr>\n",
       "      <th>50%</th>\n",
       "      <td>1.849500e+09</td>\n",
       "      <td>6.379700e+10</td>\n",
       "    </tr>\n",
       "    <tr>\n",
       "      <th>75%</th>\n",
       "      <td>1.889250e+09</td>\n",
       "      <td>6.488800e+10</td>\n",
       "    </tr>\n",
       "    <tr>\n",
       "      <th>max</th>\n",
       "      <td>2.130480e+09</td>\n",
       "      <td>7.055250e+10</td>\n",
       "    </tr>\n",
       "  </tbody>\n",
       "</table>\n",
       "</div>"
      ],
      "text/plain": [
       "       commission_amt  actual_sales\n",
       "count    1.000000e+04  1.000000e+04\n",
       "mean     1.850891e+09  6.382119e+10\n",
       "std      5.926697e+07  1.642265e+09\n",
       "min      1.624805e+09  5.834150e+10\n",
       "25%      1.810796e+09  6.270950e+10\n",
       "50%      1.849500e+09  6.379700e+10\n",
       "75%      1.889250e+09  6.488800e+10\n",
       "max      2.130480e+09  7.055250e+10"
      ]
     },
     "execution_count": 12,
     "metadata": {},
     "output_type": "execute_result"
    }
   ],
   "source": [
    "result = pd.DataFrame.from_records(data=simulation_all, columns=['commission_amt','actual_sales'])\n",
    "result.describe()"
   ]
  },
  {
   "cell_type": "code",
   "execution_count": 13,
   "id": "5d2f5588",
   "metadata": {},
   "outputs": [
    {
     "data": {
      "text/plain": [
       "<Axes: xlabel='commission_amt', ylabel='Probability'>"
      ]
     },
     "execution_count": 13,
     "metadata": {},
     "output_type": "execute_result"
    },
    {
     "data": {
      "image/png": "[encoded data removed]",
      "text/plain": [
       "<Figure size 640x480 with 1 Axes>"
      ]
     },
     "metadata": {},
     "output_type": "display_data"
    }
   ],
   "source": [
    "sns.histplot(data=result, x='commission_amt',stat='probability' )"
   ]
  },
  {
   "cell_type": "markdown",
   "id": "d6a68cc0",
   "metadata": {},
   "source": [
    "## Kết luận:\n",
    "- Sau khi mô phỏng 10.000 lần ta thấy rằng tổng số tiền hoa hồng cần chi trả có xác suất xảy ra cao nhất ở vùng giá trị 1.8-1.9 tỷ đồng.\n",
    "- Giá trị nhỏ nhất là 1.6 tỷ và nhiều nhất khoảng >2.1 tỷ.\n",
    "- Giả sử budget cho commission là 2 tỷ đồng, thì xác suất over budget của là 0.05%."
   ]
  },
  {
   "cell_type": "code",
   "execution_count": 16,
   "id": "44061e37",
   "metadata": {},
   "outputs": [
    {
     "data": {
      "text/plain": [
       "0.005936608995524617"
      ]
     },
     "execution_count": 16,
     "metadata": {},
     "output_type": "execute_result"
    }
   ],
   "source": [
    "from scipy.stats import norm\n",
    "\n",
    "1 - norm.cdf(x=2000000000, loc=result.commission_amt.mean(), scale=result.commission_amt.std())"
   ]
  },
  {
   "cell_type": "code",
   "execution_count": null,
   "id": "1104d34f",
   "metadata": {
    "slideshow": {
     "slide_type": ""
    },
    "tags": []
   },
   "outputs": [],
   "source": []
  }
 ],
 "metadata": {
  "kernelspec": {
   "display_name": "Python 3 (ipykernel)",
   "language": "python",
   "name": "python3"
  },
  "language_info": {
   "codemirror_mode": {
    "name": "ipython",
    "version": 3
   },
   "file_extension": ".py",
   "mimetype": "text/x-python",
   "name": "python",
   "nbconvert_exporter": "python",
   "pygments_lexer": "ipython3",
   "version": "3.12.4"
  }
 },
 "nbformat": 4,
 "nbformat_minor": 5
}
